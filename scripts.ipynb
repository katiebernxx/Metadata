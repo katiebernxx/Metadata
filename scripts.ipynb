{
 "cells": [
  {
   "cell_type": "code",
   "execution_count": 2,
   "metadata": {},
   "outputs": [
    {
     "name": "stdout",
     "output_type": "stream",
     "text": [
      "Collecting pymupdf\n",
      "  Using cached PyMuPDF-1.24.9-cp310-none-win_amd64.whl.metadata (3.4 kB)\n",
      "Collecting PyMuPDFb==1.24.9 (from pymupdf)\n",
      "  Using cached PyMuPDFb-1.24.9-py3-none-win_amd64.whl.metadata (1.4 kB)\n",
      "Using cached PyMuPDF-1.24.9-cp310-none-win_amd64.whl (3.2 MB)\n",
      "Using cached PyMuPDFb-1.24.9-py3-none-win_amd64.whl (13.2 MB)\n",
      "Installing collected packages: PyMuPDFb, pymupdf\n",
      "Successfully installed PyMuPDFb-1.24.9 pymupdf-1.24.9\n"
     ]
    }
   ],
   "source": [
    "# ! pip install fitz\n",
    "! pip install pymupdf"
   ]
  },
  {
   "cell_type": "code",
   "execution_count": 3,
   "metadata": {},
   "outputs": [],
   "source": [
    "import fitz\n",
    "\n",
    "# Extract text from PDF\n",
    "def extract_text_from_pdf(pdf_path):\n",
    "    doc = fitz.open(pdf_path)\n",
    "    text = []\n",
    "    for page in doc:\n",
    "        text.append(page.get_text())\n",
    "    return \"\\n\".join(text)\n",
    "\n",
    "pdf_text = extract_text_from_pdf(\"ex1.pdf\")"
   ]
  },
  {
   "cell_type": "markdown",
   "metadata": {},
   "source": [
    "Task 4:  Counting the Number of Words per Character in the Script"
   ]
  },
  {
   "cell_type": "code",
   "execution_count": 5,
   "metadata": {},
   "outputs": [],
   "source": [
    "import re\n",
    "from collections import defaultdict\n",
    "import pandas as pd"
   ]
  },
  {
   "cell_type": "code",
   "execution_count": 16,
   "metadata": {},
   "outputs": [
    {
     "name": "stdout",
     "output_type": "stream",
     "text": [
      "       Character  Word Count\n",
      "0          NAMIA         573\n",
      "1           NUZO         730\n",
      "2          DADDY         138\n",
      "3           MAMA           7\n",
      "4       BUBELANG         738\n",
      "5  FEMALE SELLER         113\n"
     ]
    }
   ],
   "source": [
    "## method 1: using regex\n",
    "# we are identifying character names by if they are all caps and on a single line\n",
    "# we do exclude lines with scene descriptors like int and ext to not pick up on setting all caps lines\n",
    "# Problems: the scripts are formatted differently and this does not pick up on the line \"DADDY and MAMA\" for ex because \"and\" is lowercase\n",
    "\n",
    "def count_words_per_character(script_text):\n",
    "    lines = script_text.split('\\n')\n",
    "    word_counts = defaultdict(int)\n",
    "    current_characters = []\n",
    "\n",
    "    # Identifying character names as all caps on a single line, including commas and ampersands\n",
    "    pattern = re.compile(r'^[A-Z\\s,&]+$')\n",
    "\n",
    "    for line in lines:\n",
    "        line = line.strip()\n",
    "        match = pattern.match(line)\n",
    "        if match:\n",
    "            # Skip common scene description indicators to prevent matching with all caps setting\n",
    "            if any(word in line for word in ['INT', 'EXT', 'DAY', 'NIGHT', 'MORNING', 'AFTERNOON', 'EVENING']):\n",
    "                current_characters = []\n",
    "            else:\n",
    "                # Split the line by commas, ampersands, and ANDs to get individual character names\n",
    "                characters = [char.strip() for char in re.split('[,&]| AND | and ', line)]\n",
    "                current_characters = characters\n",
    "                # if len(current_characters)>1:\n",
    "                #     print(current_characters)\n",
    "        elif current_characters:\n",
    "            # Count words in the dialogue lines\n",
    "            word_count = len(line.split())\n",
    "            for char in current_characters:\n",
    "                # if char == \"MAMA\":\n",
    "                #     print(\"mama\", word_count)\n",
    "                word_counts[char] += word_count\n",
    "\n",
    "    return word_counts\n",
    "\n",
    "# Count words per character\n",
    "word_counts = count_words_per_character(pdf_text)\n",
    "\n",
    "# Display the results\n",
    "df = pd.DataFrame(word_counts.items(), columns=[\"Character\", \"Word Count\"])\n",
    "print(df)"
   ]
  },
  {
   "cell_type": "code",
   "execution_count": 17,
   "metadata": {},
   "outputs": [
    {
     "ename": "ModuleNotFoundError",
     "evalue": "No module named 'transformers'",
     "output_type": "error",
     "traceback": [
      "\u001b[1;31m---------------------------------------------------------------------------\u001b[0m",
      "\u001b[1;31mModuleNotFoundError\u001b[0m                       Traceback (most recent call last)",
      "Cell \u001b[1;32mIn[17], line 1\u001b[0m\n\u001b[1;32m----> 1\u001b[0m \u001b[38;5;28;01mfrom\u001b[39;00m \u001b[38;5;21;01mtransformers\u001b[39;00m \u001b[38;5;28;01mimport\u001b[39;00m AutoTokenizer, AutoModelForTokenClassification\n\u001b[0;32m      2\u001b[0m \u001b[38;5;28;01mfrom\u001b[39;00m \u001b[38;5;21;01mtransformers\u001b[39;00m \u001b[38;5;28;01mimport\u001b[39;00m pipeline\n\u001b[0;32m      4\u001b[0m \u001b[38;5;66;03m# Load the pre-trained model and tokenizer\u001b[39;00m\n",
      "\u001b[1;31mModuleNotFoundError\u001b[0m: No module named 'transformers'"
     ]
    }
   ],
   "source": [
    "from transformers import AutoTokenizer, AutoModelForTokenClassification\n",
    "from transformers import pipeline\n",
    "\n",
    "# Load the pre-trained model and tokenizer\n",
    "model_name = \"dbmdz/bert-large-cased-finetuned-conll03-english\"\n",
    "tokenizer = AutoTokenizer.from_pretrained(model_name)\n",
    "model = AutoModelForTokenClassification.from_pretrained(model_name)\n",
    "\n",
    "# Create the NER pipeline\n",
    "nlp = pipeline(\"ner\", model=model, tokenizer=tokenizer)"
   ]
  },
  {
   "cell_type": "code",
   "execution_count": null,
   "metadata": {},
   "outputs": [],
   "source": []
  }
 ],
 "metadata": {
  "kernelspec": {
   "display_name": "ubongo",
   "language": "python",
   "name": "python3"
  },
  "language_info": {
   "codemirror_mode": {
    "name": "ipython",
    "version": 3
   },
   "file_extension": ".py",
   "mimetype": "text/x-python",
   "name": "python",
   "nbconvert_exporter": "python",
   "pygments_lexer": "ipython3",
   "version": "3.10.13"
  }
 },
 "nbformat": 4,
 "nbformat_minor": 2
}
