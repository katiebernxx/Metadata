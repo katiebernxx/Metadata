{
 "cells": [
  {
   "cell_type": "code",
   "execution_count": 37,
   "metadata": {},
   "outputs": [
    {
     "name": "stderr",
     "output_type": "stream",
     "text": [
      "ffmpeg version 4.2.2 Copyright (c) 2000-2019 the FFmpeg developers\n",
      "  built with clang version 12.0.0\n",
      "  configuration: --prefix=/Users/ktietz/demo/mc3/conda-bld/ffmpeg_1628925491858/_h_env_placehold_placehold_placehold_placehold_placehold_placehold_placehold_placehold_placehold_placehold_placehold_placehold_placehold_placehold_placehold_placehold_placehold_placehold_placehold_plac --cc=arm64-apple-darwin20.0.0-clang --disable-doc --enable-avresample --enable-gmp --enable-hardcoded-tables --enable-libfreetype --enable-libvpx --enable-pthreads --enable-libopus --enable-postproc --enable-pic --enable-pthreads --enable-shared --enable-static --enable-version3 --enable-zlib --enable-libmp3lame --disable-nonfree --enable-gpl --enable-gnutls --disable-openssl --enable-libopenh264 --enable-libx264\n",
      "  libavutil      56. 31.100 / 56. 31.100\n",
      "  libavcodec     58. 54.100 / 58. 54.100\n",
      "  libavformat    58. 29.100 / 58. 29.100\n",
      "  libavdevice    58.  8.100 / 58.  8.100\n",
      "  libavfilter     7. 57.100 /  7. 57.100\n",
      "  libavresample   4.  0.  0 /  4.  0.  0\n",
      "  libswscale      5.  5.100 /  5.  5.100\n",
      "  libswresample   3.  5.100 /  3.  5.100\n",
      "  libpostproc    55.  5.100 / 55.  5.100\n",
      "[mov,mp4,m4a,3gp,3g2,mj2 @ 0x125008200] stream 0, timescale not set\n",
      "Input #0, mov,mp4,m4a,3gp,3g2,mj2, from '/Users/miranyildirim/Desktop/Metadata/video/UK401 ENG - Full episode.mov':\n",
      "  Metadata:\n",
      "    major_brand     : M4V \n",
      "    minor_version   : 1\n",
      "    compatible_brands: M4V M4A isommp42\n",
      "    creation_time   : 2020-08-12T06:07:00.000000Z\n",
      "    title           : UK401 ENG - Full episode\n",
      "    keywords        : YouTube\n",
      "    artist          : Ubongo Ltd.\n",
      "  Duration: 00:24:12.92, start: 0.000000, bitrate: 10034 kb/s\n",
      "    Stream #0:0(eng): Audio: aac (LC) (mp4a / 0x6134706D), 48000 Hz, stereo, fltp, 125 kb/s (default)\n",
      "    Metadata:\n",
      "      creation_time   : 2020-08-12T06:07:00.000000Z\n",
      "      handler_name    : Core Media Audio\n",
      "    Stream #0:1(und): Video: h264 (High) (avc1 / 0x31637661), yuv420p(tv, bt709, progressive), 1920x1080 [SAR 1:1 DAR 16:9], 9903 kb/s, 25 fps, 25 tbr, 25k tbn, 50k tbc (default)\n",
      "    Metadata:\n",
      "      creation_time   : 2020-08-12T06:07:00.000000Z\n",
      "      handler_name    : Core Media Video\n",
      "    Stream #0:2: Video: mjpeg (Baseline), yuvj420p(pc, bt470bg/unknown/unknown), 1920x1080 [SAR 72:72 DAR 16:9], 90k tbr, 90k tbn, 90k tbc (attached pic)\n",
      "Output #0, mov, to 'video_processed/trimmed_video.mov':\n",
      "  Metadata:\n",
      "    major_brand     : M4V \n",
      "    minor_version   : 1\n",
      "    compatible_brands: M4V M4A isommp42\n",
      "    artist          : Ubongo Ltd.\n",
      "    title           : UK401 ENG - Full episode\n",
      "    keywords        : YouTube\n",
      "    encoder         : Lavf58.29.100\n",
      "    Stream #0:0(und): Video: h264 (High) (avc1 / 0x31637661), yuv420p(tv, bt709, progressive), 1920x1080 [SAR 1:1 DAR 16:9], q=2-31, 9903 kb/s, 25 fps, 25 tbr, 25k tbn, 25k tbc (default)\n",
      "    Metadata:\n",
      "      creation_time   : 2020-08-12T06:07:00.000000Z\n",
      "      handler_name    : Core Media Video\n",
      "    Stream #0:1(eng): Audio: aac (LC) (mp4a / 0x6134706D), 48000 Hz, stereo, fltp, 125 kb/s (default)\n",
      "    Metadata:\n",
      "      creation_time   : 2020-08-12T06:07:00.000000Z\n",
      "      handler_name    : Core Media Audio\n",
      "Stream mapping:\n",
      "  Stream #0:1 -> #0:0 (copy)\n",
      "  Stream #0:0 -> #0:1 (copy)\n",
      "Press [q] to stop, [?] for help\n",
      "frame=31044 fps=5545 q=-1.0 Lsize= 1511069kB time=00:20:42.90 bitrate=9959.5kbits/s speed= 222x    \n",
      "video:1491004kB audio:19143kB subtitle:0kB other streams:0kB global headers:0kB muxing overhead: 0.061099%\n"
     ]
    }
   ],
   "source": [
    "import subprocess\n",
    "\n",
    "def get_video_duration(video_file):\n",
    "    result = subprocess.run(\n",
    "        [\"ffprobe\", \"-v\", \"error\", \"-show_entries\", \"format=duration\",\n",
    "         \"-of\", \"default=noprint_wrappers=1:nokey=1\", video_file],\n",
    "        stdout=subprocess.PIPE,\n",
    "        stderr=subprocess.STDOUT\n",
    "    )\n",
    "    return float(result.stdout)\n",
    "\n",
    "def trim_video_ffmpeg(video_file, trimmed_video_file, trim_duration=3.5 * 60):\n",
    "    video_duration = get_video_duration(video_file)\n",
    "    \n",
    "    end_time = video_duration - trim_duration\n",
    "    \n",
    "    command = [\n",
    "        'ffmpeg',\n",
    "        '-i', video_file,\n",
    "        '-ss', '0',\n",
    "        '-to', str(end_time),\n",
    "        '-c', 'copy',\n",
    "        trimmed_video_file\n",
    "    ]\n",
    "    subprocess.run(command)\n",
    "\n",
    "video_file = \"/Users/miranyildirim/Desktop/Metadata/video/UK401 ENG - Full episode.mov\"\n",
    "trimmed_video_file = \"video_processed/trimmed_video.mov\"\n",
    "\n",
    "trim_video_ffmpeg(video_file, trimmed_video_file)\n"
   ]
  },
  {
   "cell_type": "code",
   "execution_count": 38,
   "metadata": {},
   "outputs": [
    {
     "name": "stdout",
     "output_type": "stream",
     "text": [
      "MoviePy - Writing audio in video_processed/extracted_audio.wav\n"
     ]
    },
    {
     "name": "stderr",
     "output_type": "stream",
     "text": [
      "                                                                        "
     ]
    },
    {
     "name": "stdout",
     "output_type": "stream",
     "text": [
      "MoviePy - Done.\n"
     ]
    },
    {
     "name": "stderr",
     "output_type": "stream",
     "text": [
      "\r"
     ]
    }
   ],
   "source": [
    "from moviepy.editor import VideoFileClip\n",
    "\n",
    "def extract_audio_from_video(video_file, audio_output):\n",
    "    from moviepy.editor import VideoFileClip\n",
    "    video = VideoFileClip(video_file)\n",
    "    video.audio.write_audiofile(audio_output)\n",
    "\n",
    "video_file = \"video_processed/trimmed_video.mov\"\n",
    "audio_output = \"video_processed/extracted_audio.wav\"\n",
    "\n",
    "extract_audio_from_video(video_file, audio_output)\n"
   ]
  },
  {
   "cell_type": "code",
   "execution_count": 65,
   "metadata": {},
   "outputs": [
    {
     "name": "stdout",
     "output_type": "stream",
     "text": [
      "Filtered music segments (likely songs): [(np.float64(21.89641723356009), np.float64(43.10784580498866)), (np.float64(963.7442176870749), np.float64(990.9928344671201)), (np.float64(1002.9627210884354), np.float64(1026.9373242630386))]\n"
     ]
    }
   ],
   "source": [
    "import librosa\n",
    "import numpy as np\n",
    "\n",
    "def detect_music_by_silence(audio_file, silence_threshold=0.02, min_duration=5.0, min_silence_duration=2.0):\n",
    "    y, sr = librosa.load(audio_file, sr=None)\n",
    "    \n",
    "    energy = librosa.feature.rms(y=y, frame_length=2048, hop_length=512)[0]\n",
    "    times = librosa.frames_to_time(np.arange(len(energy)), sr=sr, hop_length=512)\n",
    "    \n",
    "    non_silent = energy > silence_threshold\n",
    "    segments = []\n",
    "    start_time = None\n",
    "    \n",
    "    for t, is_non_silent in zip(times, non_silent):\n",
    "        if is_non_silent and start_time is None:\n",
    "            start_time = t\n",
    "        elif not is_non_silent and start_time is not None:\n",
    "            segment_duration = t - start_time\n",
    "            if segment_duration >= min_duration:\n",
    "                segments.append((start_time, t))\n",
    "            start_time = None\n",
    "    \n",
    "    if start_time is not None:\n",
    "        segment_duration = times[-1] - start_time\n",
    "        if segment_duration >= min_duration:\n",
    "            segments.append((start_time, times[-1]))\n",
    "    \n",
    "    filtered_segments = []\n",
    "    for i in range(len(segments) - 1):\n",
    "        if segments[i+1][0] - segments[i][1] >= min_silence_duration:\n",
    "            filtered_segments.append(segments[i])\n",
    "    \n",
    "    return filtered_segments\n",
    "\n",
    "min_song_duration = 20.0\n",
    "silence_threshold = 0.02\n",
    "min_silence_duration = 2.0 \n",
    "\n",
    "music_segments = detect_music_by_silence(audio_output, silence_threshold=silence_threshold, min_duration=min_song_duration, min_silence_duration=min_silence_duration)\n",
    "print(\"Filtered music segments (likely songs):\", music_segments)\n"
   ]
  },
  {
   "cell_type": "code",
   "execution_count": 66,
   "metadata": {},
   "outputs": [
    {
     "name": "stdout",
     "output_type": "stream",
     "text": [
      "(3, 2)\n"
     ]
    }
   ],
   "source": [
    "music_segments = np.array(music_segments)\n",
    "print(music_segments.shape)"
   ]
  },
  {
   "cell_type": "code",
   "execution_count": 67,
   "metadata": {},
   "outputs": [
    {
     "name": "stdout",
     "output_type": "stream",
     "text": [
      "BPM for each music segment: [array([120.18531977]), array([120.18531977]), array([120.18531977])]\n"
     ]
    }
   ],
   "source": [
    "def calculate_bpm(y, sr):\n",
    "    tempo, _ = librosa.beat.beat_track(y=y, sr=sr)\n",
    "    return tempo\n",
    "\n",
    "def get_bpm_for_music_sections(audio_file, music_segments):\n",
    "    y, sr = librosa.load(audio_file, sr=None)\n",
    "    bpm_list = []\n",
    "\n",
    "    for segment in music_segments:\n",
    "        start_time = segment[0]\n",
    "        end_time = segment[-1] if len(segment) > 1 else segment[0] + 1 \n",
    "        start_sample = librosa.time_to_samples(start_time, sr=sr)\n",
    "        end_sample = librosa.time_to_samples(end_time, sr=sr)\n",
    "\n",
    "        y_segment = y[start_sample:end_sample]\n",
    "        bpm = calculate_bpm(y_segment, sr)\n",
    "        bpm_list.append(bpm)\n",
    "\n",
    "    return bpm_list\n",
    "\n",
    "bpm_values = get_bpm_for_music_sections(audio_output, music_segments)\n",
    "print(\"BPM for each music segment:\", bpm_values)"
   ]
  },
  {
   "cell_type": "code",
   "execution_count": 68,
   "metadata": {},
   "outputs": [
    {
     "name": "stdout",
     "output_type": "stream",
     "text": [
      "Weighted Average BPM: [120.18531977]\n"
     ]
    }
   ],
   "source": [
    "def calculate_weighted_average_bpm(bpm_values, segments):\n",
    "    total_duration = 0\n",
    "    weighted_bpm_sum = 0\n",
    "    \n",
    "    for bpm, segment in zip(bpm_values, segments):\n",
    "        start_time = segment[0]\n",
    "        end_time = segment[-1] if len(segment) > 1 else segment[0] + 1\n",
    "        duration = end_time - start_time\n",
    "        \n",
    "        weighted_bpm_sum += bpm * duration\n",
    "        total_duration += duration\n",
    "    \n",
    "    weighted_average_bpm = weighted_bpm_sum / total_duration if total_duration > 0 else 0\n",
    "    return weighted_average_bpm\n",
    "\n",
    "weighted_average_bpm = calculate_weighted_average_bpm(bpm_values, music_segments)\n",
    "print(f\"Weighted Average BPM: {weighted_average_bpm}\")"
   ]
  },
  {
   "cell_type": "code",
   "execution_count": null,
   "metadata": {},
   "outputs": [],
   "source": []
  }
 ],
 "metadata": {
  "kernelspec": {
   "display_name": "Python 3",
   "language": "python",
   "name": "python3"
  },
  "language_info": {
   "codemirror_mode": {
    "name": "ipython",
    "version": 3
   },
   "file_extension": ".py",
   "mimetype": "text/x-python",
   "name": "python",
   "nbconvert_exporter": "python",
   "pygments_lexer": "ipython3",
   "version": "3.9.6"
  }
 },
 "nbformat": 4,
 "nbformat_minor": 2
}
